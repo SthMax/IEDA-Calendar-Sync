{
 "cells": [
  {
   "cell_type": "code",
   "execution_count": 1,
   "metadata": {},
   "outputs": [],
   "source": [
    "import json\n",
    "import logging\n",
    "\n",
    "HOMEPAGE = \"http://ieda.ust.hk/eng/events.php?catid=6&sid=50\"\n",
    "SITE = \"http://ieda.ust.hk/eng/event_detail.php?type=E&id=\"\n",
    "\n",
    "settings = None\n",
    "try:\n",
    "    with open(\"settings.json\", \"r\") as f:\n",
    "        settings = json.load(f)\n",
    "except FileNotFoundError:\n",
    "    logging.error(\"settings.json not found\")\n",
    "\n",
    "eventID = 805\n",
    "\n",
    "import urllib.request\n",
    "# contents = urllib.request.urlopen(SITE+str(eventID)).read()\n",
    "\n",
    "from bs4 import BeautifulSoup\n",
    "# soup = BeautifulSoup(contents, 'html.parser')"
   ]
  },
  {
   "cell_type": "code",
   "execution_count": 27,
   "metadata": {},
   "outputs": [],
   "source": [
    "def scrapping(eventID):\n",
    "  contents = urllib.request.urlopen(HOMEPAGE).read()\n",
    "  soup = BeautifulSoup(contents, 'html.parser')\n",
    "\n",
    "  # Get the latest event ID\n",
    "  lastEventID = int(soup.find('div', class_='info-block__date active').attrs['data-tab'])\n",
    "\n",
    "  if eventID > lastEventID:\n",
    "    logging.info(\"No new event\")\n",
    "    return None\n",
    "\n",
    "  contents = urllib.request.urlopen(SITE+str(eventID)).read()\n",
    "  soup = BeautifulSoup(contents, 'html.parser')\n",
    "\n",
    "  event = dict()\n",
    "\n",
    "  eventType = soup.find(class_='context__subtitle').text.strip() #Joint OM/IE Seminar / Seminar / Thesis Examination / etc\n",
    "\n",
    "  if eventType is None:\n",
    "    logging.info(\"Invalid event\")\n",
    "    return None\n",
    "  else:\n",
    "    event['Type'] = eventType\n",
    "\n",
    "  event[\"Title\"] = soup.find(class_='context__title').text.strip() #Title\n",
    "  \n",
    "  for label, value in zip(soup.find_all('span', class_='item-label'), soup.find_all('span', class_='item-value')):\n",
    "    event[label.text] = value.text #Date, Time, Venue, Speaker, etc, School is Optional\n",
    "\n",
    "  event[\"Abstract\"] = soup.find(class_='context__text abstract').text.strip() #Abstract\n",
    "\n",
    "  speaker_bio = soup.find(class_='context__text speaker')\n",
    "  if speaker_bio is not None:\n",
    "    event[\"Bio\"] = speaker_bio.text.strip() #Bio\n",
    "\n",
    "  event[\"Link\"] = SITE+str(eventID) #Link\n",
    "\n",
    "  return event\n",
    "\n"
   ]
  },
  {
   "cell_type": "code",
   "execution_count": 28,
   "metadata": {},
   "outputs": [
    {
     "data": {
      "text/plain": [
       "{'Type': 'Joint IE/OM Seminar',\n",
       " 'Title': 'Sixty Years of Applied Probability',\n",
       " 'Date': '5 March 2024 (Tuesday)',\n",
       " 'Time': '10:30 a.m.',\n",
       " 'Venue': 'Room 2405 (lift 17-18)',\n",
       " 'School': 'School of Business, Stanford University',\n",
       " 'Speaker': 'Prof.  J. Michael HARRlSON , Adams Distinguished Professor',\n",
       " 'Abstract': 'Abstract            \\nAbout 60 years ago, the term \"applied probability\" (AP) became official when the Journal of Applied Probability was founded at the University of Sheffield. In the years that followed, both the Operations Research Society of America and the Institute for Mathematical Statistics formally designated AP as a subfield of their respective disciplines. By coincidence, my first exposure to an AP model (specifically, the M/M/1 queue) also came about 60 years ago, as an undergraduate engineering student. In this lecture I will look back on developments in the field, in some which I have participated, with particular emphasis on (a) how to define and characterize AP, and (b) shining jewels of the AP literature.',\n",
       " 'Bio': 'Speaker Biography            \\nJ. MICHAEL HARRlSON is the Adams Distinguished Professor of Management, Emeritus, in the Graduate School of Business, Stanford University.\\xa0 He earned a B.S. degree in industrial engineering from Lehigh University, an M.S. in industrial engineering from Stanford, and a Ph.D. in operations research from Stanford before joining the faculty of the Graduate School of Business in 1970.\\xa0 He has developed and analyzed stochastic models in several different domains related to business, including mathematical finance, processing network theory, call center scheduling, dynamic pricing and revenue management. Professor Harrison has been honored by INFORMS with its Expository Writing Award (1998), the Lanchester Prize for best research publication (2001), and the John von Neumann Theory Prize (2004); he was elected to the National Academy of Engineering in 2008.\\xa0 He is a fellow of INFORMS and of the Institute for Mathematical Statistics.',\n",
       " 'Link': 'http://ieda.ust.hk/eng/event_detail.php?type=E&id=808'}"
      ]
     },
     "execution_count": 28,
     "metadata": {},
     "output_type": "execute_result"
    }
   ],
   "source": [
    "event = scrapping(808)\n",
    "event"
   ]
  },
  {
   "cell_type": "code",
   "execution_count": 32,
   "metadata": {},
   "outputs": [
    {
     "name": "stdout",
     "output_type": "stream",
     "text": [
      "Sixty Years of Applied Probability\n",
      "\n",
      "By Prof.  J. Michael HARRlSON , Adams Distinguished Professor\n",
      "From School of Business, Stanford University\n",
      "\n",
      "Abstract            \n",
      "About 60 years ago, the term \"applied probability\" (AP) became official when the Journal of Applied Probability was founded at the University of Sheffield. In the years that followed, both the Operations Research Society of America and the Institute for Mathematical Statistics formally designated AP as a subfield of their respective disciplines. By coincidence, my first exposure to an AP model (specifically, the M/M/1 queue) also came about 60 years ago, as an undergraduate engineering student. In this lecture I will look back on developments in the field, in some which I have participated, with particular emphasis on (a) how to define and characterize AP, and (b) shining jewels of the AP literature.\n",
      "\n",
      "Speaker Biography            \n",
      "J. MICHAEL HARRlSON is the Adams Distinguished Professor of Management, Emeritus, in the Graduate School of Business, Stanford University.  He earned a B.S. degree in industrial engineering from Lehigh University, an M.S. in industrial engineering from Stanford, and a Ph.D. in operations research from Stanford before joining the faculty of the Graduate School of Business in 1970.  He has developed and analyzed stochastic models in several different domains related to business, including mathematical finance, processing network theory, call center scheduling, dynamic pricing and revenue management. Professor Harrison has been honored by INFORMS with its Expository Writing Award (1998), the Lanchester Prize for best research publication (2001), and the John von Neumann Theory Prize (2004); he was elected to the National Academy of Engineering in 2008.  He is a fellow of INFORMS and of the Institute for Mathematical Statistics.\n",
      "\n",
      "http://ieda.ust.hk/eng/event_detail.php?type=E&id=808\n"
     ]
    }
   ],
   "source": [
    "description = event[\"Title\"] + \"\\n\\nBy \" + event[\"Speaker\"]\n",
    "if \"School\" in event:\n",
    "    description += \"\\nFrom \" + event[\"School\"]\n",
    "description +=   \"\\n\\n\" + event[\"Link\"] + \"\\n\\n\" + event[\"Abstract\"] + \"\\n\\n\" + event[\"Bio\"]\n",
    "\n",
    "\n",
    "print(description)"
   ]
  },
  {
   "cell_type": "code",
   "execution_count": 24,
   "metadata": {},
   "outputs": [
    {
     "data": {
      "text/plain": [
       "'2024-03-05T12:00:00'"
      ]
     },
     "execution_count": 24,
     "metadata": {},
     "output_type": "execute_result"
    }
   ],
   "source": [
    "import datetime\n",
    "# event[\"Date\"]\n",
    "# # datetime.datetime.strptime(event[\"Date\"] + \" \" + event[\"Time\"], \"%d %B %Y (%A) %I:%M %p\")\n",
    "startTime = datetime.datetime.strptime(event[\"Date\"] + \" \" + event[\"Time\"].replace(\".\", \"\").capitalize(), \"%d %B %Y (%A) %I:%M %p\")\n",
    "endTime = startTime + datetime.timedelta(hours=1.5)\n",
    "endTime.isoformat()\n"
   ]
  },
  {
   "cell_type": "code",
   "execution_count": 24,
   "metadata": {},
   "outputs": [
    {
     "data": {
      "text/plain": [
       "'Speaker Biography            \\nProf. Tingliang Huang is a Professor and the Amazon Distinguished Professor of Business Analytics at the Haslam College of Business, University of Tennessee (UT), and the Business Analytics PhD Program Recruiting Lead. He is also an Honorary Professor at UCL School of Management, University College London (UCL), the United Kingdom. He is an award-winning scholar & educator. He is interested in business analytics, AI, data science, new business models, operations-marketing interface, supply chain management, service operations, innovation, and socially responsible operations. His research articles have been published in top business journals such as Manufacturing & Service Operations Management, Marketing Science, Management Science, and Production and Operations Management. He has won various research & teaching awards including the 2023 INFORMS Workshop on Data Science Best Paper Award, 2018 POMS Wickham Skinner Early Career Research Accomplishments Award, the 2018 Most Influential Paper Award in Service Operations (joint paper with Professor Ying-Ju Chen at HKUST), the 2015 Wickham Skinner Best Paper Award, the Teaching Star Award, among others. He was the William S. McKiernan Family ’78 Faculty Fellow & tenured associate professor at the Carroll School of Management, Boston College, Chestnut Hill, MA. He is currently an Associate Editor for Manufacturing & Service Operations Management, Service Science, Decision Sciences, Naval Research Logistics, and IISE Transactions, and a Senior Editor for Production and Operations Management. He received his doctorate from the Kellogg School of Management, Northwestern University, master’s from the University of Minnesota, Minneapolis-Saint Paul, and bachelor’s from the University of Science and Technology of China (USTC).'"
      ]
     },
     "execution_count": 24,
     "metadata": {},
     "output_type": "execute_result"
    }
   ],
   "source": [
    "title = soup.find(class_='context__text speaker').text.strip()\n",
    "title"
   ]
  },
  {
   "cell_type": "code",
   "execution_count": 25,
   "metadata": {},
   "outputs": [
    {
     "data": {
      "text/plain": [
       "[<span class=\"item-label\">Date</span>,\n",
       " <span class=\"item-label\">Time</span>,\n",
       " <span class=\"item-label\">Venue</span>,\n",
       " <span class=\"item-label\">Speaker</span>]"
      ]
     },
     "execution_count": 25,
     "metadata": {},
     "output_type": "execute_result"
    }
   ],
   "source": [
    "soup.find_all('span', class_='item-label')\n"
   ]
  },
  {
   "cell_type": "code",
   "execution_count": 26,
   "metadata": {},
   "outputs": [
    {
     "name": "stdout",
     "output_type": "stream",
     "text": [
      "Date 23 February 2024 (Friday)\n",
      "Time 10:30 am\n",
      "Venue LSK - Room 4047\n",
      "Speaker Prof. Tingliang HUANG , Distinguished Professor\n"
     ]
    }
   ],
   "source": [
    "event = dict()\n",
    "\n",
    "soup.find_all('span', class_='item-value')\n",
    "\n",
    "for label, value in zip(soup.find_all('span', class_='item-label'), soup.find_all('span', class_='item-value')):\n",
    "    print(label.text, value.text)\n",
    "    event[label.text] = value.text"
   ]
  },
  {
   "cell_type": "code",
   "execution_count": 5,
   "metadata": {},
   "outputs": [],
   "source": [
    "HOMEPAGE = \"http://ieda.ust.hk/eng/events.php?catid=6&sid=50\"\n",
    "\n",
    "contents_home = urllib.request.urlopen(HOMEPAGE).read()\n",
    "soup2 = BeautifulSoup(contents_home, 'html.parser')"
   ]
  },
  {
   "cell_type": "code",
   "execution_count": 6,
   "metadata": {},
   "outputs": [
    {
     "data": {
      "text/plain": [
       "811"
      ]
     },
     "execution_count": 6,
     "metadata": {},
     "output_type": "execute_result"
    }
   ],
   "source": [
    "int(soup2.find('div', class_='info-block__date active').attrs['data-tab'])"
   ]
  },
  {
   "cell_type": "code",
   "execution_count": 7,
   "metadata": {},
   "outputs": [
    {
     "ename": "AttributeError",
     "evalue": "'NoneType' object has no attribute 'text'",
     "output_type": "error",
     "traceback": [
      "\u001b[0;31m---------------------------------------------------------------------------\u001b[0m",
      "\u001b[0;31mAttributeError\u001b[0m                            Traceback (most recent call last)",
      "Cell \u001b[0;32mIn[7], line 1\u001b[0m\n\u001b[0;32m----> 1\u001b[0m soup\u001b[38;5;241m.\u001b[39mfind(class_\u001b[38;5;241m=\u001b[39m\u001b[38;5;124m'\u001b[39m\u001b[38;5;124mcontext__date\u001b[39m\u001b[38;5;124m'\u001b[39m)\u001b[38;5;241m.\u001b[39mtext\u001b[38;5;241m.\u001b[39mstrip()\n",
      "\u001b[0;31mAttributeError\u001b[0m: 'NoneType' object has no attribute 'text'"
     ]
    }
   ],
   "source": [
    "soup.find(class_='context__date').text.strip()"
   ]
  }
 ],
 "metadata": {
  "kernelspec": {
   "display_name": "base",
   "language": "python",
   "name": "python3"
  },
  "language_info": {
   "codemirror_mode": {
    "name": "ipython",
    "version": 3
   },
   "file_extension": ".py",
   "mimetype": "text/x-python",
   "name": "python",
   "nbconvert_exporter": "python",
   "pygments_lexer": "ipython3",
   "version": "3.11.5"
  }
 },
 "nbformat": 4,
 "nbformat_minor": 2
}
