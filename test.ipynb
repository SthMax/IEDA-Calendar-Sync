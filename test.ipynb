{
 "cells": [
  {
   "cell_type": "code",
   "execution_count": 11,
   "metadata": {},
   "outputs": [],
   "source": [
    "import json\n",
    "import logging\n",
    "\n",
    "SITE = \"http://ieda.ust.hk/eng/event_detail.php?type=E&id=\"\n",
    "\n",
    "settings = None\n",
    "try:\n",
    "    with open(\"settings.json\", \"r\") as f:\n",
    "        settings = json.load(f)\n",
    "except FileNotFoundError:\n",
    "    logging.error(\"settings.json not found\")\n",
    "\n",
    "eventID = 802\n",
    "\n",
    "import urllib.request\n",
    "contents = urllib.request.urlopen(SITE+str(eventID)).read()\n",
    "\n",
    "from bs4 import BeautifulSoup\n",
    "soup = BeautifulSoup(contents, 'html.parser')"
   ]
  },
  {
   "cell_type": "code",
   "execution_count": 12,
   "metadata": {},
   "outputs": [
    {
     "data": {
      "text/plain": [
       "'Joint OM/IE Seminar'"
      ]
     },
     "execution_count": 12,
     "metadata": {},
     "output_type": "execute_result"
    }
   ],
   "source": [
    "title = soup.find(class_='context__subtitle').text.strip()\n",
    "title"
   ]
  },
  {
   "cell_type": "code",
   "execution_count": 13,
   "metadata": {},
   "outputs": [
    {
     "data": {
      "text/plain": [
       "[<span class=\"item-label\">Date</span>,\n",
       " <span class=\"item-label\">Time</span>,\n",
       " <span class=\"item-label\">Venue</span>,\n",
       " <span class=\"item-label\">Speaker</span>]"
      ]
     },
     "execution_count": 13,
     "metadata": {},
     "output_type": "execute_result"
    }
   ],
   "source": [
    "soup.find_all('span', class_='item-label')\n"
   ]
  },
  {
   "cell_type": "code",
   "execution_count": 14,
   "metadata": {},
   "outputs": [
    {
     "name": "stdout",
     "output_type": "stream",
     "text": [
      "Date 2 February 2024 (Friday)\n",
      "Time 10:30 am\n",
      "Venue LSK - Room 4047\n",
      "Speaker Prof. Burak KAZAZ , Professor\n"
     ]
    }
   ],
   "source": [
    "soup.find_all('span', class_='item-value')\n",
    "\n",
    "for label, value in zip(soup.find_all('span', class_='item-label'), soup.find_all('span', class_='item-value')):\n",
    "    print(label.text, value.text)"
   ]
  },
  {
   "cell_type": "code",
   "execution_count": 15,
   "metadata": {},
   "outputs": [],
   "source": [
    "HOMEPAGE = \"http://ieda.ust.hk/eng/events.php?catid=6&sid=50\"\n",
    "\n",
    "contents_home = urllib.request.urlopen(HOMEPAGE).read()\n",
    "soup2 = BeautifulSoup(contents_home, 'html.parser')"
   ]
  },
  {
   "cell_type": "code",
   "execution_count": 27,
   "metadata": {},
   "outputs": [
    {
     "data": {
      "text/plain": [
       "802"
      ]
     },
     "execution_count": 27,
     "metadata": {},
     "output_type": "execute_result"
    }
   ],
   "source": [
    "int(soup2.find('div', class_='info-block__date active').attrs['data-tab'])"
   ]
  }
 ],
 "metadata": {
  "kernelspec": {
   "display_name": "base",
   "language": "python",
   "name": "python3"
  },
  "language_info": {
   "codemirror_mode": {
    "name": "ipython",
    "version": 3
   },
   "file_extension": ".py",
   "mimetype": "text/x-python",
   "name": "python",
   "nbconvert_exporter": "python",
   "pygments_lexer": "ipython3",
   "version": "3.11.5"
  }
 },
 "nbformat": 4,
 "nbformat_minor": 2
}
