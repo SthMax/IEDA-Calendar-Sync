{
 "cells": [
  {
   "cell_type": "code",
   "execution_count": 6,
   "metadata": {},
   "outputs": [],
   "source": [
    "import json\n",
    "import logging\n",
    "\n",
    "SITE = \"http://ieda.ust.hk/eng/event_detail.php?type=E&id=\"\n",
    "\n",
    "settings = None\n",
    "try:\n",
    "    with open(\"settings.json\", \"r\") as f:\n",
    "        settings = json.load(f)\n",
    "except FileNotFoundError:\n",
    "    logging.error(\"settings.json not found\")\n",
    "\n",
    "eventID = 803"
   ]
  },
  {
   "cell_type": "code",
   "execution_count": 7,
   "metadata": {},
   "outputs": [],
   "source": [
    "import urllib.request\n",
    "contents = urllib.request.urlopen(SITE+str(eventID)).read()\n",
    "\n",
    "from bs4 import BeautifulSoup\n",
    "soup = BeautifulSoup(contents, 'html.parser')"
   ]
  },
  {
   "cell_type": "code",
   "execution_count": 9,
   "metadata": {},
   "outputs": [
    {
     "data": {
      "text/plain": [
       "''"
      ]
     },
     "execution_count": 9,
     "metadata": {},
     "output_type": "execute_result"
    }
   ],
   "source": [
    "title = soup.find(class_='context__subtitle').text.strip()\n",
    "title"
   ]
  },
  {
   "cell_type": "code",
   "execution_count": 3,
   "metadata": {},
   "outputs": [
    {
     "data": {
      "text/plain": [
       "[<span class=\"item-label\">Date</span>,\n",
       " <span class=\"item-label\">Time</span>,\n",
       " <span class=\"item-label\">Venue</span>,\n",
       " <span class=\"item-label\">School</span>,\n",
       " <span class=\"item-label\">Speaker</span>]"
      ]
     },
     "execution_count": 3,
     "metadata": {},
     "output_type": "execute_result"
    }
   ],
   "source": [
    "soup.find_all('span', class_='item-label')\n"
   ]
  },
  {
   "cell_type": "code",
   "execution_count": 5,
   "metadata": {},
   "outputs": [
    {
     "name": "stdout",
     "output_type": "stream",
     "text": [
      "Date 4 August 2023 (Friday)\n",
      "Time 10:30 a.m.\n",
      "Venue Room 5562 (lift 27-28)\n",
      "School Desautels Faculty of Management, McGill University\n",
      "Speaker Prof. Yichuan DING , Associate Professor\n"
     ]
    }
   ],
   "source": [
    "soup.find_all('span', class_='item-value')\n",
    "\n",
    "for label, value in zip(soup.find_all('span', class_='item-label'), soup.find_all('span', class_='item-value')):\n",
    "    print(label.text, value.text)"
   ]
  },
  {
   "cell_type": "code",
   "execution_count": null,
   "metadata": {},
   "outputs": [],
   "source": []
  }
 ],
 "metadata": {
  "kernelspec": {
   "display_name": "base",
   "language": "python",
   "name": "python3"
  },
  "language_info": {
   "codemirror_mode": {
    "name": "ipython",
    "version": 3
   },
   "file_extension": ".py",
   "mimetype": "text/x-python",
   "name": "python",
   "nbconvert_exporter": "python",
   "pygments_lexer": "ipython3",
   "version": "3.9.18"
  }
 },
 "nbformat": 4,
 "nbformat_minor": 2
}
